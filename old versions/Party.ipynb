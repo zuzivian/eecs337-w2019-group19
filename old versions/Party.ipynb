{
 "cells": [
  {
   "cell_type": "code",
   "execution_count": null,
   "metadata": {},
   "outputs": [],
   "source": [
    "from nltk.corpus import stopwords\n",
    "from nltk import word_tokenize\n",
    "from nltk import bigrams, trigrams\n",
    "import json\n",
    "from pprint import pprint\n",
    "import os\n",
    "import timeit\n",
    "\n",
    "from classifier import *\n",
    "from Presenter import *"
   ]
  },
  {
   "cell_type": "code",
   "execution_count": null,
   "metadata": {},
   "outputs": [],
   "source": [
    "year = 2013"
   ]
  },
  {
   "cell_type": "code",
   "execution_count": null,
   "metadata": {},
   "outputs": [],
   "source": [
    "# load json data\n",
    "dir_path = os.path.dirname(os.path.realpath(\"\"))\n",
    "with open(dir_path + '/eecs337-w2019-group19/data/gg' + str(year) + '.json') as f:\n",
    "    data = json.load(f)\n",
    "\n",
    "stopWords = set(stopwords.words('english'))\n",
    "twitterwords = {\"http\", \"rt\", \"goldenglobes\", \"golden\", \"globes\", \"globe\"}\n",
    "stopWords = stopWords.union(twitterwords)\n",
    "#keyword = ['present', 'presenting', 'presented', 'presents', 'presenter', 'presenters', \n",
    "           'introduce', 'introducing', 'introduces', 'introduced',\n",
    "           'announce', 'announcing', 'announces', 'announces']\n",
    "#stop = stopwords.words('english')\n",
    "\n",
    "partywords = [\"party\", \"parties\"] \n",
    "alltweets = [tweetFull['text'] for tweetFull in data] \n",
    "partyTweets = tweetTokenContain(alltweets, partywords, stopWords)"
   ]
  },
  {
   "cell_type": "code",
   "execution_count": null,
   "metadata": {},
   "outputs": [],
   "source": [
    "len(partyTweets[1])"
   ]
  },
  {
   "cell_type": "code",
   "execution_count": null,
   "metadata": {},
   "outputs": [],
   "source": [
    "commonUni = unigramsDict(partyTweets[1]) \n",
    "printDictbyCount(commonUni, maximum = 100)"
   ]
  },
  {
   "cell_type": "code",
   "execution_count": null,
   "metadata": {},
   "outputs": [],
   "source": [
    "commonBi = bigramsDict(partyTweets[1]) \n",
    "printDictbyCount(commonBi, maximum = 100)"
   ]
  },
  {
   "cell_type": "code",
   "execution_count": null,
   "metadata": {},
   "outputs": [],
   "source": [
    "for item in commonBi:\n",
    "    if item[1][1] == \"party\" or item[1][1] == \"Party\":\n",
    "        if item[1][0].istitle() == True:\n",
    "            pprint(item)"
   ]
  },
  {
   "cell_type": "code",
   "execution_count": null,
   "metadata": {},
   "outputs": [],
   "source": [
    "commonBi[1][1]"
   ]
  },
  {
   "cell_type": "code",
   "execution_count": null,
   "metadata": {},
   "outputs": [],
   "source": [
    "testdata = partyTweets[1]\n",
    "party2 = []\n",
    "party3 = []\n",
    "for sentencelist in testdata:\n",
    "    if \"party\" in sentencelist:\n",
    "        pos = sentencelist.index(\"party\")\n",
    "        if pos > 0:\n",
    "            describer_1 = sentencelist[pos - 1]\n",
    "            describer_2 = \"\"\n",
    "            if pos > 1:\n",
    "                describer_2 = sentencelist[pos - 2]\n",
    "            \n",
    "            if describer_1.istitle() == True:\n",
    "                partyname = describer_1 + \" \" + sentencelist[pos]\n",
    "                party2.append(partyname)\n",
    "                if describer_2.istitle() == True :\n",
    "                    partyname = describer_2 + \" \" + describer_1 + \" \" + sentencelist[pos]\n",
    "                    party3.append(partyname)\n",
    "                    \n",
    "party = party2 + party3\n",
    "\n",
    "common_unigrams = {}\n",
    "for p in party:\n",
    "    if p in common_unigrams.keys():\n",
    "        common_unigrams[p] += 1\n",
    "    else:\n",
    "        common_unigrams[p] = 1\n",
    "    \n",
    "    d_view = [ (v,k) for k,v in common_unigrams.items() ]\n",
    "printDictbyCount(d_view, maximum = 50)"
   ]
  },
  {
   "cell_type": "code",
   "execution_count": null,
   "metadata": {},
   "outputs": [],
   "source": []
  },
  {
   "cell_type": "code",
   "execution_count": null,
   "metadata": {},
   "outputs": [],
   "source": []
  },
  {
   "cell_type": "code",
   "execution_count": null,
   "metadata": {},
   "outputs": [],
   "source": []
  },
  {
   "cell_type": "code",
   "execution_count": null,
   "metadata": {},
   "outputs": [],
   "source": []
  }
 ],
 "metadata": {
  "kernelspec": {
   "display_name": "Python 3",
   "language": "python",
   "name": "python3"
  },
  "language_info": {
   "codemirror_mode": {
    "name": "ipython",
    "version": 3
   },
   "file_extension": ".py",
   "mimetype": "text/x-python",
   "name": "python",
   "nbconvert_exporter": "python",
   "pygments_lexer": "ipython3",
   "version": "3.7.0"
  }
 },
 "nbformat": 4,
 "nbformat_minor": 2
}
